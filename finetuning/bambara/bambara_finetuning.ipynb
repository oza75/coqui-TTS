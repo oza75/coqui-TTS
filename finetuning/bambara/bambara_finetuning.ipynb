{
 "cells": [
  {
   "cell_type": "code",
   "execution_count": null,
   "id": "initial_id",
   "metadata": {
    "collapsed": true
   },
   "outputs": [],
   "source": [
    "! pip install TTS wandb"
   ]
  },
  {
   "cell_type": "code",
   "outputs": [],
   "source": [
    "! tts --list_models"
   ],
   "metadata": {
    "collapsed": false
   },
   "id": "bc298b9b1a38facb",
   "execution_count": null
  },
  {
   "cell_type": "code",
   "outputs": [],
   "source": [
    "!tts --text \"Bonjour, j'aime bien la viande. Et je suis vraiment content de te voir !\" --model_name \"tts_models/multilingual/multi-dataset/xtts_v2\" --speaker_wav \"./reference_speaker.wav\" --out_path \"../output.wav\" --language_idx fr "
   ],
   "metadata": {
    "collapsed": false
   },
   "id": "3a94b856c7b4f301",
   "execution_count": null
  },
  {
   "cell_type": "code",
   "outputs": [],
   "source": [
    "import IPython\n",
    "IPython.display.Audio(\"../output.wav\")"
   ],
   "metadata": {
    "collapsed": false
   },
   "id": "2b1ab3193ec987bb",
   "execution_count": null
  },
  {
   "cell_type": "code",
   "outputs": [],
   "source": [
    "from datasets import load_dataset, DatasetDict, concatenate_datasets\n",
    "import os\n",
    "import re"
   ],
   "metadata": {
    "collapsed": false,
    "ExecuteTime": {
     "end_time": "2024-04-04T00:53:36.474117100Z",
     "start_time": "2024-04-04T00:53:36.442423300Z"
    }
   },
   "id": "b146376364ec4850",
   "execution_count": 74
  },
  {
   "cell_type": "code",
   "outputs": [],
   "source": [
    "from huggingface_hub import notebook_login\n",
    "\n",
    "notebook_login()"
   ],
   "metadata": {
    "collapsed": false
   },
   "id": "763526d46c279f9b",
   "execution_count": null
  },
  {
   "cell_type": "code",
   "outputs": [
    {
     "data": {
      "text/plain": "Downloading data:   0%|          | 0.00/63.3k [00:00<?, ?B/s]",
      "application/vnd.jupyter.widget-view+json": {
       "version_major": 2,
       "version_minor": 0,
       "model_id": "999a059b74204a4f9a72a8b63b722741"
      }
     },
     "metadata": {},
     "output_type": "display_data"
    },
    {
     "data": {
      "text/plain": "Downloading data:   0%|          | 0.00/76.3k [00:00<?, ?B/s]",
      "application/vnd.jupyter.widget-view+json": {
       "version_major": 2,
       "version_minor": 0,
       "model_id": "772232508bc24820a7fd1558af0914cc"
      }
     },
     "metadata": {},
     "output_type": "display_data"
    },
    {
     "data": {
      "text/plain": "Downloading data:   0%|          | 0.00/80.2k [00:00<?, ?B/s]",
      "application/vnd.jupyter.widget-view+json": {
       "version_major": 2,
       "version_minor": 0,
       "model_id": "ae54fde93993442692f6733441cb3865"
      }
     },
     "metadata": {},
     "output_type": "display_data"
    },
    {
     "data": {
      "text/plain": "Downloading data:   0%|          | 0.00/62.7k [00:00<?, ?B/s]",
      "application/vnd.jupyter.widget-view+json": {
       "version_major": 2,
       "version_minor": 0,
       "model_id": "ec30ec6111cb4b86916f139945c01b74"
      }
     },
     "metadata": {},
     "output_type": "display_data"
    },
    {
     "data": {
      "text/plain": "Downloading data:   0%|          | 0.00/21.1k [00:00<?, ?B/s]",
      "application/vnd.jupyter.widget-view+json": {
       "version_major": 2,
       "version_minor": 0,
       "model_id": "8d67165cf3db4031bf961ef53551c01e"
      }
     },
     "metadata": {},
     "output_type": "display_data"
    },
    {
     "data": {
      "text/plain": "Downloading data:   0%|          | 0.00/44.9k [00:00<?, ?B/s]",
      "application/vnd.jupyter.widget-view+json": {
       "version_major": 2,
       "version_minor": 0,
       "model_id": "f89a0a4362c74a168caff7db5e137c85"
      }
     },
     "metadata": {},
     "output_type": "display_data"
    },
    {
     "data": {
      "text/plain": "Downloading data:   0%|          | 0.00/45.8k [00:00<?, ?B/s]",
      "application/vnd.jupyter.widget-view+json": {
       "version_major": 2,
       "version_minor": 0,
       "model_id": "385d9ef4c2bb45f9b74f91ad475c2920"
      }
     },
     "metadata": {},
     "output_type": "display_data"
    },
    {
     "data": {
      "text/plain": "Downloading data:   0%|          | 0.00/31.3k [00:00<?, ?B/s]",
      "application/vnd.jupyter.widget-view+json": {
       "version_major": 2,
       "version_minor": 0,
       "model_id": "a9ec7d7c3584453ebdcb9ed9cc7bf02e"
      }
     },
     "metadata": {},
     "output_type": "display_data"
    },
    {
     "data": {
      "text/plain": "Downloading data:   0%|          | 0.00/25.7k [00:00<?, ?B/s]",
      "application/vnd.jupyter.widget-view+json": {
       "version_major": 2,
       "version_minor": 0,
       "model_id": "91c1553f31e146849e60927bfa5940c1"
      }
     },
     "metadata": {},
     "output_type": "display_data"
    },
    {
     "data": {
      "text/plain": "Downloading data:   0%|          | 0.00/71.5k [00:00<?, ?B/s]",
      "application/vnd.jupyter.widget-view+json": {
       "version_major": 2,
       "version_minor": 0,
       "model_id": "ab3198dc7ffb4e389400fc57a2ce09d0"
      }
     },
     "metadata": {},
     "output_type": "display_data"
    },
    {
     "data": {
      "text/plain": "Downloading data:   0%|          | 0.00/69.8k [00:00<?, ?B/s]",
      "application/vnd.jupyter.widget-view+json": {
       "version_major": 2,
       "version_minor": 0,
       "model_id": "ce373d5b5b144d9e94d5b3b3ac818b7a"
      }
     },
     "metadata": {},
     "output_type": "display_data"
    },
    {
     "data": {
      "text/plain": "Downloading data:   0%|          | 0.00/32.2k [00:00<?, ?B/s]",
      "application/vnd.jupyter.widget-view+json": {
       "version_major": 2,
       "version_minor": 0,
       "model_id": "c905d5cc07194cffaa9cd0453960a2de"
      }
     },
     "metadata": {},
     "output_type": "display_data"
    },
    {
     "data": {
      "text/plain": "Downloading data:   0%|          | 0.00/37.8k [00:00<?, ?B/s]",
      "application/vnd.jupyter.widget-view+json": {
       "version_major": 2,
       "version_minor": 0,
       "model_id": "a7d6e50f027844d683c97dccd2f1a00f"
      }
     },
     "metadata": {},
     "output_type": "display_data"
    },
    {
     "data": {
      "text/plain": "Downloading data:   0%|          | 0.00/29.0k [00:00<?, ?B/s]",
      "application/vnd.jupyter.widget-view+json": {
       "version_major": 2,
       "version_minor": 0,
       "model_id": "a896a3417c8445068a641189019709af"
      }
     },
     "metadata": {},
     "output_type": "display_data"
    },
    {
     "data": {
      "text/plain": "Downloading data:   0%|          | 0.00/66.7k [00:00<?, ?B/s]",
      "application/vnd.jupyter.widget-view+json": {
       "version_major": 2,
       "version_minor": 0,
       "model_id": "7969f752588044e6aaa51e438ae1291d"
      }
     },
     "metadata": {},
     "output_type": "display_data"
    },
    {
     "data": {
      "text/plain": "Downloading data:   0%|          | 0.00/40.1k [00:00<?, ?B/s]",
      "application/vnd.jupyter.widget-view+json": {
       "version_major": 2,
       "version_minor": 0,
       "model_id": "79f56f976fe04e2491fc83afe7ef73b5"
      }
     },
     "metadata": {},
     "output_type": "display_data"
    },
    {
     "data": {
      "text/plain": "Downloading data:   0%|          | 0.00/34.7k [00:00<?, ?B/s]",
      "application/vnd.jupyter.widget-view+json": {
       "version_major": 2,
       "version_minor": 0,
       "model_id": "8071e919b56145fdaca5afe136547ff0"
      }
     },
     "metadata": {},
     "output_type": "display_data"
    },
    {
     "data": {
      "text/plain": "Downloading data:   0%|          | 0.00/38.7k [00:00<?, ?B/s]",
      "application/vnd.jupyter.widget-view+json": {
       "version_major": 2,
       "version_minor": 0,
       "model_id": "717440605f394a68b69fd347b3c64b1e"
      }
     },
     "metadata": {},
     "output_type": "display_data"
    },
    {
     "data": {
      "text/plain": "Downloading data:   0%|          | 0.00/48.9k [00:00<?, ?B/s]",
      "application/vnd.jupyter.widget-view+json": {
       "version_major": 2,
       "version_minor": 0,
       "model_id": "2cdb9dc7367f443d841b75d99b5da5b0"
      }
     },
     "metadata": {},
     "output_type": "display_data"
    },
    {
     "data": {
      "text/plain": "Downloading data:   0%|          | 0.00/30.5k [00:00<?, ?B/s]",
      "application/vnd.jupyter.widget-view+json": {
       "version_major": 2,
       "version_minor": 0,
       "model_id": "0cfa41ad3b1541dcb1470fb597294034"
      }
     },
     "metadata": {},
     "output_type": "display_data"
    },
    {
     "data": {
      "text/plain": "Downloading data:   0%|          | 0.00/48.3k [00:00<?, ?B/s]",
      "application/vnd.jupyter.widget-view+json": {
       "version_major": 2,
       "version_minor": 0,
       "model_id": "dea4bf1019f14e2aa8ce3b0f39a8998f"
      }
     },
     "metadata": {},
     "output_type": "display_data"
    },
    {
     "data": {
      "text/plain": "Downloading data:   0%|          | 0.00/29.9k [00:00<?, ?B/s]",
      "application/vnd.jupyter.widget-view+json": {
       "version_major": 2,
       "version_minor": 0,
       "model_id": "e5b6da684f68482fa4bc6f06ad8f62d2"
      }
     },
     "metadata": {},
     "output_type": "display_data"
    },
    {
     "data": {
      "text/plain": "Downloading data:   0%|          | 0.00/69.0k [00:00<?, ?B/s]",
      "application/vnd.jupyter.widget-view+json": {
       "version_major": 2,
       "version_minor": 0,
       "model_id": "1396d19472e54f23925346bb9b71221b"
      }
     },
     "metadata": {},
     "output_type": "display_data"
    },
    {
     "data": {
      "text/plain": "Downloading data:   0%|          | 0.00/58.5k [00:00<?, ?B/s]",
      "application/vnd.jupyter.widget-view+json": {
       "version_major": 2,
       "version_minor": 0,
       "model_id": "7d542b40013e4b21bec255b60b45577e"
      }
     },
     "metadata": {},
     "output_type": "display_data"
    },
    {
     "data": {
      "text/plain": "Downloading data:   0%|          | 0.00/21.1k [00:00<?, ?B/s]",
      "application/vnd.jupyter.widget-view+json": {
       "version_major": 2,
       "version_minor": 0,
       "model_id": "550a381d30474c708ec0a56ddd25ddb1"
      }
     },
     "metadata": {},
     "output_type": "display_data"
    },
    {
     "data": {
      "text/plain": "Downloading data:   0%|          | 0.00/17.8k [00:00<?, ?B/s]",
      "application/vnd.jupyter.widget-view+json": {
       "version_major": 2,
       "version_minor": 0,
       "model_id": "4b74ab9139f8405e95fc6501a93db63a"
      }
     },
     "metadata": {},
     "output_type": "display_data"
    },
    {
     "data": {
      "text/plain": "Downloading data:   0%|          | 0.00/60.2k [00:00<?, ?B/s]",
      "application/vnd.jupyter.widget-view+json": {
       "version_major": 2,
       "version_minor": 0,
       "model_id": "5a3a673f06fb46aca45f85d0c2b86fcd"
      }
     },
     "metadata": {},
     "output_type": "display_data"
    },
    {
     "data": {
      "text/plain": "Downloading data:   0%|          | 0.00/74.6k [00:00<?, ?B/s]",
      "application/vnd.jupyter.widget-view+json": {
       "version_major": 2,
       "version_minor": 0,
       "model_id": "27d56e2cd3764228980063d8d52f6ff5"
      }
     },
     "metadata": {},
     "output_type": "display_data"
    },
    {
     "data": {
      "text/plain": "Downloading data:   0%|          | 0.00/53.1k [00:00<?, ?B/s]",
      "application/vnd.jupyter.widget-view+json": {
       "version_major": 2,
       "version_minor": 0,
       "model_id": "edaa98fe8a2c4193889260a31538c317"
      }
     },
     "metadata": {},
     "output_type": "display_data"
    },
    {
     "data": {
      "text/plain": "Generating train split: 0 examples [00:00, ? examples/s]",
      "application/vnd.jupyter.widget-view+json": {
       "version_major": 2,
       "version_minor": 0,
       "model_id": "e3dbde70fe6f457f813b42b4c2c8b321"
      }
     },
     "metadata": {},
     "output_type": "display_data"
    },
    {
     "name": "stdout",
     "output_type": "stream",
     "text": [
      "https://s3.amazonaws.com/bloom-speech/audio/bam-0000-i0543c85c-fa96-404d-9faa-7d024b5b1f39.mp3 failed to download. Data may be missing.\n"
     ]
    },
    {
     "data": {
      "text/plain": "Generating test split: 0 examples [00:00, ? examples/s]",
      "application/vnd.jupyter.widget-view+json": {
       "version_major": 2,
       "version_minor": 0,
       "model_id": "35ca814140ab48fb849919d9e64a8114"
      }
     },
     "metadata": {},
     "output_type": "display_data"
    },
    {
     "data": {
      "text/plain": "Generating validation split: 0 examples [00:00, ? examples/s]",
      "application/vnd.jupyter.widget-view+json": {
       "version_major": 2,
       "version_minor": 0,
       "model_id": "975398a3f1f6491c8c4677a468915610"
      }
     },
     "metadata": {},
     "output_type": "display_data"
    },
    {
     "data": {
      "text/plain": "DatasetDict({\n    train: Dataset({\n        features: ['file', 'audio', 'text', 'book', 'instance', 'license', 'credits', 'original_lang_tag'],\n        num_rows: 203\n    })\n    test: Dataset({\n        features: ['file', 'audio', 'text', 'book', 'instance', 'license', 'credits', 'original_lang_tag'],\n        num_rows: 50\n    })\n    validation: Dataset({\n        features: ['file', 'audio', 'text', 'book', 'instance', 'license', 'credits', 'original_lang_tag'],\n        num_rows: 50\n    })\n})"
     },
     "execution_count": 65,
     "metadata": {},
     "output_type": "execute_result"
    }
   ],
   "source": [
    "dataset = load_dataset('sil-ai/bloom-speech', 'bm', use_auth_token=True)\n",
    "dataset"
   ],
   "metadata": {
    "collapsed": false
   },
   "id": "788f7784839b3d8b",
   "execution_count": 65
  },
  {
   "cell_type": "code",
   "outputs": [
    {
     "data": {
      "text/plain": "DatasetDict({\n    train: Dataset({\n        features: ['file', 'audio', 'text', 'book', 'instance', 'license', 'credits', 'original_lang_tag'],\n        num_rows: 253\n    })\n})"
     },
     "execution_count": 69,
     "metadata": {},
     "output_type": "execute_result"
    }
   ],
   "source": [
    "tts_ds = DatasetDict({\"train\": concatenate_datasets([dataset['train'], dataset['validation']])})\n",
    "tts_ds"
   ],
   "metadata": {
    "collapsed": false,
    "ExecuteTime": {
     "end_time": "2024-04-04T00:49:19.844885800Z",
     "start_time": "2024-04-04T00:49:19.762859600Z"
    }
   },
   "id": "9c822eb521b40541",
   "execution_count": 69
  },
  {
   "cell_type": "code",
   "outputs": [
    {
     "ename": "NameError",
     "evalue": "name 'tts_ds' is not defined",
     "output_type": "error",
     "traceback": [
      "\u001B[0;31m---------------------------------------------------------------------------\u001B[0m",
      "\u001B[0;31mNameError\u001B[0m                                 Traceback (most recent call last)",
      "Cell \u001B[0;32mIn[1], line 1\u001B[0m\n\u001B[0;32m----> 1\u001B[0m \u001B[43mtts_ds\u001B[49m[\u001B[38;5;124m'\u001B[39m\u001B[38;5;124mtrain\u001B[39m\u001B[38;5;124m'\u001B[39m][\u001B[38;5;241m0\u001B[39m]\n",
      "\u001B[0;31mNameError\u001B[0m: name 'tts_ds' is not defined"
     ]
    }
   ],
   "source": [
    "tts_ds['train'][0]"
   ],
   "metadata": {
    "collapsed": false,
    "ExecuteTime": {
     "end_time": "2024-04-04T02:02:26.981887800Z",
     "start_time": "2024-04-04T02:02:26.832390500Z"
    }
   },
   "id": "14f85689afc66768",
   "execution_count": 1
  },
  {
   "cell_type": "code",
   "outputs": [
    {
     "data": {
      "text/plain": "<IPython.lib.display.Audio object>",
      "text/html": "\n                <audio  controls=\"controls\" >\n                    <source src=\"data:audio/mpeg;base64,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\" type=\"audio/mpeg\" />\n                    Your browser does not support the audio element.\n                </audio>\n              "
     },
     "execution_count": 87,
     "metadata": {},
     "output_type": "execute_result"
    }
   ],
   "source": [
    "IPython.display.Audio(tts_ds['train'][0]['file'])"
   ],
   "metadata": {
    "collapsed": false,
    "ExecuteTime": {
     "end_time": "2024-04-04T01:21:21.664358300Z",
     "start_time": "2024-04-04T01:21:21.483985200Z"
    }
   },
   "id": "a2571a306c99e834",
   "execution_count": 87
  },
  {
   "cell_type": "code",
   "outputs": [],
   "source": [
    "def number_to_bambara(n):\n",
    "    \"\"\"\n",
    "    Convert a number into its textual representation in Bambara using recursion.\n",
    "\n",
    "    Args:\n",
    "    n (int): The number to be converted.\n",
    "\n",
    "    Returns:\n",
    "    str: The number expressed in Bambara text.\n",
    "\n",
    "    Examples:\n",
    "    >>> number_to_bambara(123)\n",
    "    'kɛmɛ ni mugan ni saba'\n",
    "\n",
    "    Notes:\n",
    "    This function assumes that 'n' is a non-negative integer.\n",
    "    \"\"\"\n",
    "\n",
    "    # Bambara numbering rules\n",
    "    units = [\"\", \"kɛlɛn\", \"fila\", \"saba\", \"naani\", \"duuru\", \"wɔrɔ\", \"wòlonwula\", \"sɛɛgin\", \"kɔnɔntɔn\"]\n",
    "    tens = [\"\", \"tan\", \"mugan\", \"bisaba\", \"binaani\", \"biduuru\", \"biwɔrɔ\", \"biwòlonfila\", \"bisɛɛgin\", \"bikɔnɔntɔn\"]\n",
    "    hundreds = [\"\", \"kɛmɛ\"]\n",
    "    thousands = [\"\", \"waga\"]\n",
    "    millions = [\"\", \"milyɔn\"]\n",
    "    \n",
    "    # Handle zero explicitly\n",
    "    if n == 0:\n",
    "        return \"\"\n",
    "\n",
    "    if n < 10:\n",
    "        return units[n]\n",
    "    elif n < 100:\n",
    "        return tens[n // 10] if n < 20 else tens[n // 10] + (\" ni \" + number_to_bambara(n % 10) if n % 10 > 0 else \"\")\n",
    "    elif n < 1000:\n",
    "        return hundreds[1] + (\" \" + number_to_bambara(n // 100) if n >= 200 else \"\") + (\" ni \" + number_to_bambara(n % 100) if n % 100 > 0 else \"\")\n",
    "    elif n < 1_000_000:\n",
    "        return thousands[1] + \" \" + number_to_bambara(n // 1000) + (\" ni \" + number_to_bambara(n % 1000) if n % 1000 > 0 else \"\")\n",
    "    else:\n",
    "        return millions[1] + \" \" + number_to_bambara(n // 1_000_000) + (\" ni \" + number_to_bambara(n % 1_000_000) if n % 1_000_000 > 0 else \"\")\n",
    "    \n",
    "def normalize_bambara(text):\n",
    "    \"\"\"\n",
    "    Normalize Bambara text for TTS by replacing numerical figures with their word equivalents.\n",
    "\n",
    "    Args:\n",
    "    text (str): The text to be normalized.\n",
    "\n",
    "    Returns:\n",
    "    str: The normalized Bambara text.\n",
    "    \"\"\"\n",
    "\n",
    "    # A regex pattern to match all numbers\n",
    "    number_pattern = re.compile(r'\\b\\d+\\b')\n",
    "\n",
    "    # Function to replace each number with its Bambara text\n",
    "    def replace_number_with_text(match):\n",
    "        number = int(match.group())\n",
    "        return number_to_bambara(number)\n",
    "\n",
    "    # Replace each number in the text with its Bambara word equivalent\n",
    "    normalized_text = number_pattern.sub(replace_number_with_text, text)\n",
    "\n",
    "    return normalized_text\n",
    "\n",
    "# Function to create the metadata file\n",
    "def create_metadata_file(dataset, output_dir='MyTTSDataSet'):\n",
    "    # Create the output directory if it doesn't exist\n",
    "    if not os.path.exists(output_dir):\n",
    "        os.makedirs(output_dir)\n",
    "    \n",
    "    # Define the path to the metadata file\n",
    "    metadata_path = os.path.join(output_dir, 'metadata.txt')\n",
    "\n",
    "    # Open the metadata file in write mode\n",
    "    with open(metadata_path, 'w', encoding='utf-8') as f:\n",
    "        # Iterate over each item in the dataset\n",
    "        for item in dataset['train']:\n",
    "            # Your dataset should have an 'audio' column with a dictionary containing the file path and 'array' for the audio data\n",
    "            audio_path = item['audio']['path']\n",
    "            bambara_text = item['text'].replace(\" \", \" \").replace(\" \", \" \").replace(\"\\n\", \" \")\n",
    "            normalized_text = normalize_bambara(bambara_text)\n",
    "\n",
    "            # Write the formatted data to the metadata file\n",
    "            f.write(f\"{audio_path}|{bambara_text}|{normalized_text}\\n\")\n",
    "    \n",
    "    return metadata_path"
   ],
   "metadata": {
    "collapsed": false,
    "ExecuteTime": {
     "end_time": "2024-04-04T01:56:19.365450100Z",
     "start_time": "2024-04-04T01:56:19.309467300Z"
    }
   },
   "id": "6b2c16bb592eea57",
   "execution_count": 92
  },
  {
   "cell_type": "code",
   "outputs": [
    {
     "data": {
      "text/plain": "'../my_test_tts_data/metadata.txt'"
     },
     "execution_count": 93,
     "metadata": {},
     "output_type": "execute_result"
    }
   ],
   "source": [
    "create_metadata_file(tts_ds, output_dir=\"./dataset\")"
   ],
   "metadata": {
    "collapsed": false,
    "ExecuteTime": {
     "end_time": "2024-04-04T01:56:27.379142Z",
     "start_time": "2024-04-04T01:56:21.794024200Z"
    }
   },
   "id": "4c33072a6dc99a1c",
   "execution_count": 93
  },
  {
   "cell_type": "code",
   "outputs": [
    {
     "name": "stdout",
     "output_type": "stream",
     "text": [
      ">> DVAE weights restored from: /home/aboubacar/lab/others/bambara-translation/code/coqui-TTS/bam_recipes/run/training/XTTS_v2.0_original_model_files/dvae.pth\r\n",
      " | > Found 253 files in /home/aboubacar/lab/others/bambara-translation/code/coqui-TTS/my_test_tts_data\r\n",
      " > Training Environment:\r\n",
      " | > Backend: Torch\r\n",
      " | > Mixed precision: False\r\n",
      " | > Precision: float32\r\n",
      " | > Num. of CPUs: 20\r\n",
      " | > Num. of Torch Threads: 1\r\n",
      " | > Torch seed: 1\r\n",
      " | > Torch CUDNN: True\r\n",
      " | > Torch CUDNN deterministic: False\r\n",
      " | > Torch CUDNN benchmark: False\r\n",
      " | > Torch TF32 MatMul: False\r\n",
      "Traceback (most recent call last):\r\n",
      "  File \"/home/aboubacar/lab/others/bambara-translation/code/coqui-TTS/notebooks/../bam_recipes/train_gpt_xtts.py\", line 176, in <module>\r\n",
      "    main()\r\n",
      "  File \"/home/aboubacar/lab/others/bambara-translation/code/coqui-TTS/notebooks/../bam_recipes/train_gpt_xtts.py\", line 159, in main\r\n",
      "    trainer = Trainer(\r\n",
      "  File \"/home/aboubacar/miniconda3/lib/python3.10/site-packages/trainer/trainer.py\", line 440, in __init__\r\n",
      "    self.dashboard_logger, self.c_logger = self.init_loggers(self.config, output_path, dashboard_logger, c_logger)\r\n",
      "  File \"/home/aboubacar/miniconda3/lib/python3.10/site-packages/trainer/trainer.py\", line 706, in init_loggers\r\n",
      "    dashboard_logger = logger_factory(config, output_path)\r\n",
      "  File \"/home/aboubacar/miniconda3/lib/python3.10/site-packages/trainer/logging/__init__.py\", line 41, in logger_factory\r\n",
      "    dashboard_logger = WandbLogger(  # pylint: disable=abstract-class-instantiated\r\n",
      "  File \"/home/aboubacar/miniconda3/lib/python3.10/site-packages/trainer/logging/wandb_logger.py\", line 18, in __init__\r\n",
      "    if not wandb:\r\n",
      "NameError: name 'wandb' is not defined\r\n",
      "\u001B[0m"
     ]
    }
   ],
   "source": [
    "! CUDA_VISIBLE_DEVICES=\"0\" python ./train_gpt_xtts.py"
   ],
   "metadata": {
    "collapsed": false,
    "ExecuteTime": {
     "end_time": "2024-04-04T01:57:39.559161400Z",
     "start_time": "2024-04-04T01:56:35.836375200Z"
    }
   },
   "id": "9b785e8d5b5ff148",
   "execution_count": 94
  }
 ],
 "metadata": {
  "kernelspec": {
   "display_name": "Python 3",
   "language": "python",
   "name": "python3"
  },
  "language_info": {
   "codemirror_mode": {
    "name": "ipython",
    "version": 2
   },
   "file_extension": ".py",
   "mimetype": "text/x-python",
   "name": "python",
   "nbconvert_exporter": "python",
   "pygments_lexer": "ipython2",
   "version": "2.7.6"
  }
 },
 "nbformat": 4,
 "nbformat_minor": 5
}
